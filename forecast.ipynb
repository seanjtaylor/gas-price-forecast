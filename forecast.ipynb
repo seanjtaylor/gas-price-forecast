{
  "cells": [
    {
      "cell_type": "raw",
      "metadata": {},
      "source": [
        "---\n",
        "title: Forecasting gas prices\n",
        "author: '[Sean J. Taylor](https://twitter.com/seanjtaylor)'\n",
        "date: 25 Sept 2022\n",
        "format:\n",
        "  html:\n",
        "    toc: true\n",
        "---"
      ],
      "id": "73a34464"
    },
    {
      "cell_type": "markdown",
      "metadata": {},
      "source": [
        "This notebook implements a forecast for US gas prices for the next 13 weeks (roughly one quarter), broken down by region. I am taking this as an opportunity to kick the tires on three new packages I've been excited to try out:\n",
        "\n",
        "- [statsforecast](https://nixtla.github.io/statsforecast/)'s AutoARIMA implementation (created by [Nixtla](https://www.nixtla.io/)). Note that gas prices are ill-suited to Prophet's model which focuses on modeling seasonality that's not really present here.\n",
        "- [Lineapy](https://lineapy.org/) to save data and plots, and generate a pipeline we can schedule to run regularly. This is super useful because I'm going to do a lot of extra exploratory work here that isn't really relevant to the final automation step.\n",
        "- [Quarto](https://quarto.org/) the new hotness for rendering documents from Jupyter notebooks. If you're reading this and think \"hey this looks nice!\" it's 100% because of Quarto.\n",
        "\n",
        "I hope it also just demonstrates what I believe to be an effective way to wrangle data in Python, using Pandas method-chaining, altair plots, black to automatically cleanup after myself\n",
        "\n",
        "*Interesting packages I am using* \n",
        "(the rest are hidden)\n"
      ],
      "id": "3fe39184"
    },
    {
      "cell_type": "code",
      "metadata": {},
      "source": [
        "#%load_ext lineapy\n",
        "%load_ext nb_black\n",
        "from statsforecast.models import AutoARIMA"
      ],
      "id": "8daab0aa",
      "execution_count": null,
      "outputs": []
    },
    {
      "cell_type": "code",
      "metadata": {},
      "source": [
        "#| echo: false\n",
        "import requests\n",
        "import altair as alt\n",
        "import numpy as np\n",
        "import pandas as pd\n",
        "from scipy.linalg import svd\n",
        "\n",
        "from statsmodels.graphics.tsaplots import plot_acf\n",
        "from statsmodels.tsa.stattools import acf"
      ],
      "id": "d08565ce",
      "execution_count": null,
      "outputs": []
    },
    {
      "cell_type": "markdown",
      "metadata": {},
      "source": [
        "# 1. Download and clean up data\n",
        "\n",
        "We are going to get data from the [EIA](https://www.eia.gov/petroleum/gasdiesel/)'s website, which has weekly gas prices by region since 1993. They (sadly) make the data available in an XLS file, but fortunately Pandas can read this natively, and we can do almost all the needed cleanup in a few lines.\n"
      ],
      "id": "85ede981"
    },
    {
      "cell_type": "code",
      "metadata": {},
      "source": [
        "response = requests.get(\"https://www.eia.gov/petroleum/gasdiesel/xls/pswrgvwall.xls\")\n",
        "df = pd.read_excel(\n",
        "    response.content,\n",
        "    sheet_name=\"Data 12\",\n",
        "    index_col=0,\n",
        "    skiprows=2,\n",
        "    parse_dates=[\"Date\"],\n",
        ").rename(\n",
        "    columns=lambda c: c.replace(\"Weekly \", \"\").replace(\n",
        "        \" All Grades All Formulations Retail Gasoline Prices  (Dollars per Gallon)\", \"\"\n",
        "    )\n",
        ")"
      ],
      "id": "e72ebc65",
      "execution_count": null,
      "outputs": []
    },
    {
      "cell_type": "markdown",
      "metadata": {},
      "source": [
        "Saving this dataframe in Lineapy makes it available as an artifact I can schedule to be re-created regularly.\n"
      ],
      "id": "d35d953d"
    },
    {
      "cell_type": "code",
      "metadata": {},
      "source": [
        "lineapy.save(df, \"weekly_gas_price_data\")"
      ],
      "id": "189163f0",
      "execution_count": null,
      "outputs": []
    },
    {
      "cell_type": "markdown",
      "metadata": {},
      "source": [
        "# 2. Tidy and explore the data\n",
        "\n",
        "Our first step here is to tidy the data.\n",
        "\n",
        "- convert from wide to long format\n",
        "- rename columns\n",
        "- clean up missing values\n",
        "\n",
        "After that we'll do some basic EDA.\n"
      ],
      "id": "74684722"
    },
    {
      "cell_type": "code",
      "metadata": {},
      "source": [
        "df_long = (\n",
        "    df.reset_index()\n",
        "    .melt(id_vars=[\"Date\"], var_name=\"region\", value_name=\"price\")\n",
        "    .rename(columns={\"Date\": \"week\"})\n",
        "    .sort_values([\"region\", \"week\"])\n",
        "    .assign(\n",
        "        # if we're missing one value, just use the last value\n",
        "        # (happens twice)\n",
        "        price=lambda x: x[\"price\"].combine_first(x.groupby(\"region\")[\"price\"].shift(1)),\n",
        "        # we'll forecast log(price) and then transform\n",
        "        log_price=lambda x: np.log(x[\"price\"]),\n",
        "        # percentage price changes are approximately the difference in log(price)\n",
        "        price_change=lambda x: (\n",
        "            x[\"log_price\"] - x.groupby(\"region\")[\"log_price\"].shift(1)\n",
        "        ),\n",
        "    )\n",
        "    .query(\"price == price\")  # filter out NAs\n",
        ")\n",
        "\n",
        "lineapy.save(df_long, \"weekly_gas_price_data_long\")\n",
        "df_long.head()"
      ],
      "id": "5f4ad2cb",
      "execution_count": null,
      "outputs": []
    },
    {
      "cell_type": "markdown",
      "metadata": {},
      "source": [
        "Count how many non-missing values we have so we can get a sense of how long the time series are.\n"
      ],
      "id": "f820abdb"
    },
    {
      "cell_type": "code",
      "metadata": {},
      "source": [
        "df_long.groupby(\"region\")[\"price\"].count().reset_index().pipe(alt.Chart).encode(\n",
        "    x=alt.X(\"price\", title=\"Cases\"), y=alt.Y(\"region\", sort=alt.SortField(\"price\"))\n",
        ").mark_bar()"
      ],
      "id": "94346dc9",
      "execution_count": null,
      "outputs": []
    },
    {
      "cell_type": "markdown",
      "metadata": {},
      "source": [
        "As time goes on we get prices for more regions. They gradually introduced more fine-grained geographies over time. By 2003 or so all regions are available.\n"
      ],
      "id": "6d2705b1"
    },
    {
      "cell_type": "code",
      "metadata": {},
      "source": [
        "df_long.groupby(\"week\")[\"price\"].count().reset_index().pipe(alt.Chart).encode(\n",
        "    x=\"week\", y=alt.Y(\"price\", title=\"Count\")\n",
        ").mark_line()"
      ],
      "id": "d9017201",
      "execution_count": null,
      "outputs": []
    },
    {
      "cell_type": "markdown",
      "metadata": {},
      "source": [
        "This plot shows the distribution of price changes. Clearly non-normal, it looks like a Laplace distribution.\n"
      ],
      "id": "20d07fc4"
    },
    {
      "cell_type": "code",
      "metadata": {},
      "source": [
        "(\n",
        "    df_long.query(\"price_change == price_change\")\n",
        "    .sample(5000)\n",
        "    .pipe(alt.Chart)\n",
        "    .transform_density(\"price_change\")\n",
        "    .encode(x=\"value:Q\", y=\"density:Q\")\n",
        "    .mark_area()\n",
        ")"
      ],
      "id": "a3454d3b",
      "execution_count": null,
      "outputs": []
    },
    {
      "cell_type": "code",
      "metadata": {},
      "source": [
        "total_regions = len(df_long[\"region\"].unique())\n",
        "\n",
        "complete_case_date = (\n",
        "    df_long.groupby(\"week\")[\"price\"]\n",
        "    .count()\n",
        "    .reset_index()\n",
        "    .query(f\"price == {total_regions}\")[\"week\"]\n",
        "    .min()\n",
        ").strftime(\"%Y-%m-%d\")\n",
        "complete_case_date"
      ],
      "id": "aa3a436f",
      "execution_count": null,
      "outputs": []
    },
    {
      "cell_type": "code",
      "metadata": {},
      "source": [
        "(\n",
        "    df_long.groupby(\"region\")[\"price_change\"]\n",
        "    .mean()\n",
        "    .reset_index()\n",
        "    .assign(annual_price_change=lambda x: x[\"price_change\"] * 52)\n",
        "    .pipe(alt.Chart)\n",
        "    .encode(\n",
        "        x=alt.X(\"region\", sort=alt.SortField(\"annual_price_change\")),\n",
        "        y=alt.Y(\"annual_price_change\", title=\"Annual Price Growth\"),\n",
        "    )\n",
        "    .mark_bar()\n",
        ")"
      ],
      "id": "d46ebcdb",
      "execution_count": null,
      "outputs": []
    },
    {
      "cell_type": "markdown",
      "metadata": {},
      "source": [
        "## Matrix factorizations are fun\n"
      ],
      "id": "900dc8f2"
    },
    {
      "cell_type": "code",
      "metadata": {},
      "source": [
        "wide = (\n",
        "    df_long.query(f\"week > '{complete_case_date}'\")[[\"week\", \"region\", \"price_change\"]]\n",
        "    .set_index(\"week\")\n",
        "    .pivot(columns=\"region\", values=\"price_change\")\n",
        ")\n",
        "matrix = wide.values\n",
        "print(matrix.shape)\n",
        "u, d, v = svd(matrix)"
      ],
      "id": "2935b78e",
      "execution_count": null,
      "outputs": []
    },
    {
      "cell_type": "code",
      "metadata": {},
      "source": [
        "scree_plot = (\n",
        "    pd.DataFrame({\"eigenvalue\": d, \"index\": np.arange(d.shape[0])})\n",
        "    .pipe(alt.Chart)\n",
        "    .encode(x=\"index\", y=\"eigenvalue\")\n",
        "    .mark_point()\n",
        ")\n",
        "\n",
        "lineapy.save(scree_plot, \"scree_plot\")\n",
        "scree_plot"
      ],
      "id": "81ecc4f4",
      "execution_count": null,
      "outputs": []
    },
    {
      "cell_type": "code",
      "metadata": {},
      "source": [
        "components = pd.DataFrame(\n",
        "    v, columns=[f\"component_{i}\" for i in range(v.shape[0])], index=wide.columns\n",
        ").reset_index()\n",
        "\n",
        "components_plot = (\n",
        "    components.pipe(alt.Chart)\n",
        "    .encode(x=\"component_0\", y=\"component_1\", text=\"region\")\n",
        "    .mark_text()\n",
        "    .interactive()\n",
        ")\n",
        "\n",
        "lineapy.save(components_plot, \"components_plot\")\n",
        "components_plot"
      ],
      "id": "f24c1cda",
      "execution_count": null,
      "outputs": []
    },
    {
      "cell_type": "markdown",
      "metadata": {},
      "source": [
        "## ACF plots: are price changes mean-reverting?\n",
        "\n",
        "Here we check if changes in gas prices have any autocorrelation. If they do, it indicates there is some momentum: if prices are increasing they are likely to increase next week and we should fill up our tank as soon as possible. If there is no autocorrelation, there's no real benefit to timing our gas purchases. If the autocorrelation is negative, we may want to wait awhile after prices increase to fill up.\n",
        "\n",
        "**Answer**: looks like there's strong positive autocorrelation lasting about 6 weeks. \n"
      ],
      "id": "2ba89883"
    },
    {
      "cell_type": "code",
      "metadata": {},
      "source": [
        "region = \"U.S.\"\n",
        "auto_correlation = (\n",
        "    df_long.query(f\"region == '{region}'\")\n",
        "    .query(\"price_change == price_change\")[\"price_change\"]\n",
        "    .pipe(acf)\n",
        ")\n",
        "acf_plot = (\n",
        "    pd.DataFrame({\"rho\": auto_correlation, \"lag\": np.arange(auto_correlation.shape[0])})\n",
        "    .pipe(alt.Chart, title=region)\n",
        "    .encode(x=\"lag\", y=\"rho\")\n",
        "    .mark_bar()\n",
        ")\n",
        "lineapy.save(acf_plot, \"acf_plot2\")\n",
        "acf_plot"
      ],
      "id": "af6025e9",
      "execution_count": null,
      "outputs": []
    },
    {
      "cell_type": "markdown",
      "metadata": {},
      "source": [
        "# 3. Make some forecasts\n",
        "\n",
        "Note that I'm just going to hard-code these parameters here, and then use lineapy turn them into proper parameters later.\n"
      ],
      "id": "9ddd2eb2"
    },
    {
      "cell_type": "code",
      "metadata": {},
      "source": [
        "H = 13\n",
        "CI = 80\n",
        "region = \"U.S.\"\n",
        "cutoff_date = \"2022-09-21\"  # \"2022-05-15\"\n",
        "plot_start_date = \"2022-01-01\""
      ],
      "id": "979c87c1",
      "execution_count": null,
      "outputs": []
    },
    {
      "cell_type": "code",
      "metadata": {},
      "source": [
        "region_df = df_long.query(f\"region == '{region}'\")\n",
        "train = region_df.query(f\"week < '{cutoff_date}'\")\n",
        "m_aa = AutoARIMA()\n",
        "m_aa.fit(train[\"log_price\"].values)"
      ],
      "id": "2f9496d1",
      "execution_count": null,
      "outputs": []
    },
    {
      "cell_type": "code",
      "metadata": {},
      "source": [
        "raw_forecast = m_aa.predict(h=H, level=(CI,))\n",
        "raw_forecast_exp = {key: np.exp(value) for key, value in raw_forecast.items()}\n",
        "forecast = pd.DataFrame(raw_forecast_exp).assign(\n",
        "    week=pd.date_range(train[\"week\"].max(), periods=H, freq=\"W\")\n",
        "    + pd.Timedelta(\"7 days\")\n",
        ")\n",
        "forecast = pd.concat(\n",
        "    [\n",
        "        forecast,\n",
        "        train.tail(1)\n",
        "        .rename(columns={\"price\": \"mean\"})\n",
        "        .assign(**{f\"lo-{CI}\": lambda x: x[\"mean\"], f\"hi-{CI}\": lambda x: x[\"mean\"]}),\n",
        "    ]\n",
        ")"
      ],
      "id": "1db1ef5f",
      "execution_count": null,
      "outputs": []
    },
    {
      "cell_type": "code",
      "metadata": {},
      "source": [
        "uncertainty_plot = (\n",
        "    forecast.pipe(alt.Chart)\n",
        "    .encode(\n",
        "        x=\"week\",\n",
        "        y=alt.Y(f\"lo-{CI}\", title=\"Price\"),\n",
        "        y2=alt.Y2(f\"hi-{CI}\", title=\"Price\"),\n",
        "    )\n",
        "    .mark_area(opacity=0.2)\n",
        ")\n",
        "\n",
        "history_plot = (\n",
        "    region_df.query(f\"week >= '{plot_start_date}'\")\n",
        "    .pipe(alt.Chart, title=f\"{region} gas price forecast (as of {cutoff_date})\")\n",
        "    .encode(x=alt.X(\"week\", title=\"Week\"), y=alt.Y(\"price\", title=\"Price\"))\n",
        "    .mark_line()\n",
        ")\n",
        "\n",
        "forecast_plot = forecast.pipe(alt.Chart).encode(x=\"week\", y=\"mean\").mark_line()\n",
        "\n",
        "cutoff_plot = (\n",
        "    train.tail(1).pipe(alt.Chart).encode(x=\"week\").mark_rule(strokeDash=[10, 2])\n",
        ")\n",
        "\n",
        "all_plots = uncertainty_plot + history_plot + forecast_plot + cutoff_plot\n",
        "lineapy.save(all_plots, \"gas_price_forecast\")"
      ],
      "id": "7665a493",
      "execution_count": null,
      "outputs": []
    },
    {
      "cell_type": "markdown",
      "metadata": {},
      "source": [
        "The forecast is kind of boring actually, the recent trend has been flat so it looks unlikely prices could climb as high as they were in June or even March.\n"
      ],
      "id": "e70e1749"
    },
    {
      "cell_type": "code",
      "metadata": {},
      "source": [
        "all_plots"
      ],
      "id": "8397e7a2",
      "execution_count": null,
      "outputs": []
    },
    {
      "cell_type": "markdown",
      "metadata": {},
      "source": [
        "# 4. Build a pipeline\n",
        "\n",
        "### Parameter Refactor\n",
        "\n",
        "Here is some magic. I can take the last plot I made and directly turn it into a function that makes the plot again -- but where I can set new options about the parameters I specified!\n"
      ],
      "id": "46ebf183"
    },
    {
      "cell_type": "code",
      "metadata": {},
      "source": [
        "forecast_region = lineapy.get_function(\n",
        "    [\"gas_price_forecast\"],\n",
        "    input_parameters=[\"region\", \"cutoff_date\", \"H\"],\n",
        "    reuse_pre_computed_artifacts=[\"weekly_gas_price_data_long\"],\n",
        ")"
      ],
      "id": "5f275b82",
      "execution_count": null,
      "outputs": []
    },
    {
      "cell_type": "code",
      "metadata": {},
      "source": [
        "result = forecast_region(region=\"California\", cutoff_date=\"2022-06-07\", H=13)\n",
        "result[\"gas_price_forecast\"]"
      ],
      "id": "656ee0fd",
      "execution_count": null,
      "outputs": []
    },
    {
      "cell_type": "code",
      "metadata": {},
      "source": [
        "plots = []\n",
        "for region in df_long[\"region\"].unique():\n",
        "    result = forecast_region(region=region, cutoff_date=\"2022-09-23\")\n",
        "    plots.append(result[\"gas_price_forecast\"])"
      ],
      "id": "112bc0d2",
      "execution_count": null,
      "outputs": []
    },
    {
      "cell_type": "code",
      "metadata": {},
      "source": [
        "chart = alt.vconcat()\n",
        "for i, plot in enumerate(plots):\n",
        "    if i % 5 == 0:\n",
        "        row = alt.hconcat()\n",
        "        chart &= row\n",
        "    row |= plot\n",
        "chart"
      ],
      "id": "dc75e3b3",
      "execution_count": null,
      "outputs": []
    },
    {
      "cell_type": "code",
      "metadata": {},
      "source": [
        "lineapy.save(chart, \"all_forecasts_plot\")"
      ],
      "id": "7f6dc7ec",
      "execution_count": null,
      "outputs": []
    },
    {
      "cell_type": "code",
      "metadata": {},
      "source": [
        "lineapy.to_pipeline([\"all_forecasts_plot\"])"
      ],
      "id": "0f70ae1a",
      "execution_count": null,
      "outputs": []
    }
  ],
  "metadata": {
    "kernelspec": {
      "name": "python3",
      "language": "python",
      "display_name": "Python 3 (ipykernel)"
    }
  },
  "nbformat": 4,
  "nbformat_minor": 5
}